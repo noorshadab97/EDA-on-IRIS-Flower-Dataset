EDA on IRIS FLOWER DATA SET

"""Iris Flower dataset¶
Toy Dataset: Iris Dataset: [https://en.wikipedia.org/wiki/Iris_flower_data_set]

A simple dataset to learn the basics.
3 flowers of Iris species. [see images on wikipedia link above]
1936 by Ronald Fisher.
Petal and Sepal: http://terpconnect.umd.edu/~petersd/666/html/iris_with_labels.jpg
Objective: Classify a new flower as belonging to one of the 3 classes given the 4 features.
Importance of domain knowledge.
Why use petal and sepal dimensions as features?
Why do we not use 'color' as a feature?"""

import pandas as pd
import seaborn as sns
import matplotlib.pyplot as plt
import numpy as np


#downlaod iris.csv from https://raw.githubusercontent.com/uiuc-cse/data-fa14/gh-pages/data/iris.csv
#Load Iris.csv into a pandas dataFrame.
#Iris is the dataframe

iris = pd.read_csv("iris_data_csv.csv")



# how many data-points and features?
print (iris.shape)


# What are the column names in our dataset?
print (iris.columns)



#(Q) How many data points for each class are present? 
#(or) How many flowers for each species are present?

iris["species"].value_counts()


# balanced-dataset vs imbalanced datasets
#Iris is a balanced dataset as the number of data points for every class is 50.



# 2-D SCATTER PLOT

#2-D scatter plot:
#ALWAYS understand the axis: labels and scale.

iris.plot(kind='scatter', x='sepal_length', y='sepal_width') ;
plt.show()

#cannot make much sense out it. 
#What if we color the points by thier class-label/flower-type.


# 2-D Scatter plot with color-coding for each flower type/class.
# Here 'sns' corresponds to seaborn. 
sns.set_style("whitegrid");
sns.FacetGrid(iris, hue="species", height=6) \
   .map(plt.scatter, "sepal_length", "sepal_width") \
   .add_legend();
plt.show();

# Notice that the blue points can be easily seperated 
# from red and green by drawing a line. 
# But red and green data points cannot be easily seperated.
# Can we draw multiple 2-D scatter plots for each combination of features?
# How many cobinations exist? 4C2 = 6.



#Observation(s):

#Using sepal_length and sepal_width features, we can distinguish Setosa flowers from others.
#Seperating Versicolor from Viginica is much harder as they have considerable overlap.




